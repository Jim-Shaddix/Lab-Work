{
 "cells": [
  {
   "cell_type": "markdown",
   "metadata": {},
   "source": [
    "# Graph Analyses"
   ]
  },
  {
   "cell_type": "markdown",
   "metadata": {
    "heading_collapsed": true
   },
   "source": [
    "### Goals"
   ]
  },
  {
   "cell_type": "markdown",
   "metadata": {
    "hidden": true
   },
   "source": [
    "1. identify all csv files, and open them.\n",
    "1. Print all the graphs.\n",
    "2. Upload Some peak finding algorithems, and test them.\n",
    "3. write a function that will display all graphs, with the peaks from an arbitrary peak finding algorithem"
   ]
  },
  {
   "cell_type": "markdown",
   "metadata": {},
   "source": [
    "### Imports"
   ]
  },
  {
   "cell_type": "code",
   "execution_count": 1,
   "metadata": {
    "ExecuteTime": {
     "end_time": "2018-05-19T00:23:39.427885Z",
     "start_time": "2018-05-19T00:23:38.328549Z"
    }
   },
   "outputs": [],
   "source": [
    "import matplotlib.pyplot as plt\n",
    "import pandas as pd\n",
    "import numpy as np\n",
    "\n",
    "import subprocess\n",
    "\n",
    "pd.set_option('display.max_columns', 10) # display columns\n",
    "pd.set_option('display.max_rows', 8)    # display rows\n",
    "\n",
    "#plot in the notebook\n",
    "%matplotlib inline\n",
    "\n",
    "#create ipython editable plot in sepperate window\n",
    "#%matplotlib qt   \n",
    "\n",
    "import matplotlib as mpl"
   ]
  },
  {
   "cell_type": "markdown",
   "metadata": {},
   "source": [
    "## Read In Data And Plot"
   ]
  },
  {
   "cell_type": "markdown",
   "metadata": {
    "heading_collapsed": true
   },
   "source": [
    "### Example: Read Data, Build Plot (With One File)"
   ]
  },
  {
   "cell_type": "code",
   "execution_count": 25,
   "metadata": {
    "ExecuteTime": {
     "end_time": "2018-05-19T00:30:27.893607Z",
     "start_time": "2018-05-19T00:30:27.846713Z"
    },
    "hidden": true
   },
   "outputs": [
    {
     "data": {
      "text/plain": [
       "['sp001_051518_BaIrO3_916_295K_0.1atm_100-1200kHz.csv',\n",
       " 'sp002_051518_BaIrO3_916_195K_100-1200kHz.csv',\n",
       " 'sp003_051518_BaIrO3_916_194K_100-1200kHz.csv']"
      ]
     },
     "execution_count": 25,
     "metadata": {},
     "output_type": "execute_result"
    }
   ],
   "source": [
    "# Get Files\n",
    "str_files  = subprocess.check_output([\"ls | grep '\\.csv$'\"],shell=True).decode(\"utf-8\")\n",
    "list_files = str_files.split(\"\\n\")[:-1]\n",
    "list_files"
   ]
  },
  {
   "cell_type": "code",
   "execution_count": 3,
   "metadata": {
    "ExecuteTime": {
     "end_time": "2018-05-19T00:23:39.570276Z",
     "start_time": "2018-05-19T00:23:39.463720Z"
    },
    "hidden": true,
    "scrolled": true
   },
   "outputs": [
    {
     "name": "stdout",
     "output_type": "stream",
     "text": [
      "File Read:  sp002_051518_BaIrO3_916_195K_100-1200kHz.csv\n"
     ]
    }
   ],
   "source": [
    "# Read In Data\n",
    "read_file = list_files[1]\n",
    "df = pd.read_csv(read_file)\n",
    "print(\"File Read: \",read_file)"
   ]
  },
  {
   "cell_type": "code",
   "execution_count": 4,
   "metadata": {
    "ExecuteTime": {
     "end_time": "2018-05-19T00:23:39.652416Z",
     "start_time": "2018-05-19T00:23:39.573067Z"
    },
    "hidden": true,
    "scrolled": false
   },
   "outputs": [
    {
     "data": {
      "text/html": [
       "<div>\n",
       "<style>\n",
       "    .dataframe thead tr:only-child th {\n",
       "        text-align: right;\n",
       "    }\n",
       "\n",
       "    .dataframe thead th {\n",
       "        text-align: left;\n",
       "    }\n",
       "\n",
       "    .dataframe tbody tr th {\n",
       "        vertical-align: top;\n",
       "    }\n",
       "</style>\n",
       "<table border=\"1\" class=\"dataframe\">\n",
       "  <thead>\n",
       "    <tr style=\"text-align: right;\">\n",
       "      <th></th>\n",
       "      <th>Frequency, Hz - Peaks</th>\n",
       "      <th>Magnitude (V) - Peaks</th>\n",
       "      <th>Frequency, Hz - Signal</th>\n",
       "      <th>Magnitude (V) - Signal</th>\n",
       "    </tr>\n",
       "  </thead>\n",
       "  <tbody>\n",
       "    <tr>\n",
       "      <th>0</th>\n",
       "      <td>129.9k</td>\n",
       "      <td>2.476297m</td>\n",
       "      <td>100k</td>\n",
       "      <td>729.632u</td>\n",
       "    </tr>\n",
       "    <tr>\n",
       "      <th>1</th>\n",
       "      <td>163.26k</td>\n",
       "      <td>1.406614m</td>\n",
       "      <td>100.02k</td>\n",
       "      <td>346.4334u</td>\n",
       "    </tr>\n",
       "    <tr>\n",
       "      <th>2</th>\n",
       "      <td>187.98k</td>\n",
       "      <td>3.072827m</td>\n",
       "      <td>100.04k</td>\n",
       "      <td>232.6887u</td>\n",
       "    </tr>\n",
       "    <tr>\n",
       "      <th>3</th>\n",
       "      <td>235.5k</td>\n",
       "      <td>1.928759m</td>\n",
       "      <td>100.06k</td>\n",
       "      <td>614.2753u</td>\n",
       "    </tr>\n",
       "    <tr>\n",
       "      <th>...</th>\n",
       "      <td>...</td>\n",
       "      <td>...</td>\n",
       "      <td>...</td>\n",
       "      <td>...</td>\n",
       "    </tr>\n",
       "    <tr>\n",
       "      <th>6</th>\n",
       "      <td>284.56k</td>\n",
       "      <td>2.041854m</td>\n",
       "      <td>100.12k</td>\n",
       "      <td>743.0403u</td>\n",
       "    </tr>\n",
       "    <tr>\n",
       "      <th>7</th>\n",
       "      <td>303.72k</td>\n",
       "      <td>2.103579m</td>\n",
       "      <td>100.14k</td>\n",
       "      <td>742.6972u</td>\n",
       "    </tr>\n",
       "    <tr>\n",
       "      <th>8</th>\n",
       "      <td>323.64k</td>\n",
       "      <td>6.908894m</td>\n",
       "      <td>100.16k</td>\n",
       "      <td>739.7663u</td>\n",
       "    </tr>\n",
       "    <tr>\n",
       "      <th>9</th>\n",
       "      <td>331.08k</td>\n",
       "      <td>2.128424m</td>\n",
       "      <td>100.18k</td>\n",
       "      <td>733.0368u</td>\n",
       "    </tr>\n",
       "  </tbody>\n",
       "</table>\n",
       "<p>10 rows × 4 columns</p>\n",
       "</div>"
      ],
      "text/plain": [
       "   Frequency, Hz - Peaks Magnitude (V) - Peaks Frequency, Hz - Signal  \\\n",
       "0                 129.9k             2.476297m                   100k   \n",
       "1                163.26k             1.406614m                100.02k   \n",
       "2                187.98k             3.072827m                100.04k   \n",
       "3                 235.5k             1.928759m                100.06k   \n",
       "..                   ...                   ...                    ...   \n",
       "6                284.56k             2.041854m                100.12k   \n",
       "7                303.72k             2.103579m                100.14k   \n",
       "8                323.64k             6.908894m                100.16k   \n",
       "9                331.08k             2.128424m                100.18k   \n",
       "\n",
       "   Magnitude (V) - Signal  \n",
       "0                729.632u  \n",
       "1               346.4334u  \n",
       "2               232.6887u  \n",
       "3               614.2753u  \n",
       "..                    ...  \n",
       "6               743.0403u  \n",
       "7               742.6972u  \n",
       "8               739.7663u  \n",
       "9               733.0368u  \n",
       "\n",
       "[10 rows x 4 columns]"
      ]
     },
     "execution_count": 4,
     "metadata": {},
     "output_type": "execute_result"
    }
   ],
   "source": [
    "# Display Data\n",
    "df.head(10)"
   ]
  },
  {
   "cell_type": "code",
   "execution_count": 5,
   "metadata": {
    "ExecuteTime": {
     "end_time": "2018-05-19T00:23:39.695726Z",
     "start_time": "2018-05-19T00:23:39.655119Z"
    },
    "hidden": true,
    "scrolled": true
   },
   "outputs": [],
   "source": [
    "# Parse into peak and column Data\n",
    "\n",
    "peak_headers   = list(df)[:2]\n",
    "signal_headers = list(df)[2:]\n",
    "\n",
    "df_peak    = df[peak_headers]\n",
    "df_signal  = df[signal_headers]\n",
    "\n",
    "# drop empty rows\n",
    "df_peak   = df_peak.dropna(axis=0) \n",
    "df_signal = df_signal.dropna(axis=0) "
   ]
  },
  {
   "cell_type": "code",
   "execution_count": 6,
   "metadata": {
    "ExecuteTime": {
     "end_time": "2018-05-19T00:23:39.730415Z",
     "start_time": "2018-05-19T00:23:39.698510Z"
    },
    "hidden": true,
    "scrolled": false
   },
   "outputs": [
    {
     "data": {
      "text/html": [
       "<div>\n",
       "<style>\n",
       "    .dataframe thead tr:only-child th {\n",
       "        text-align: right;\n",
       "    }\n",
       "\n",
       "    .dataframe thead th {\n",
       "        text-align: left;\n",
       "    }\n",
       "\n",
       "    .dataframe tbody tr th {\n",
       "        vertical-align: top;\n",
       "    }\n",
       "</style>\n",
       "<table border=\"1\" class=\"dataframe\">\n",
       "  <thead>\n",
       "    <tr style=\"text-align: right;\">\n",
       "      <th></th>\n",
       "      <th>Frequency, Hz - Peaks</th>\n",
       "      <th>Magnitude (V) - Peaks</th>\n",
       "    </tr>\n",
       "  </thead>\n",
       "  <tbody>\n",
       "    <tr>\n",
       "      <th>0</th>\n",
       "      <td>129.9k</td>\n",
       "      <td>2.476297m</td>\n",
       "    </tr>\n",
       "    <tr>\n",
       "      <th>1</th>\n",
       "      <td>163.26k</td>\n",
       "      <td>1.406614m</td>\n",
       "    </tr>\n",
       "    <tr>\n",
       "      <th>2</th>\n",
       "      <td>187.98k</td>\n",
       "      <td>3.072827m</td>\n",
       "    </tr>\n",
       "    <tr>\n",
       "      <th>3</th>\n",
       "      <td>235.5k</td>\n",
       "      <td>1.928759m</td>\n",
       "    </tr>\n",
       "    <tr>\n",
       "      <th>...</th>\n",
       "      <td>...</td>\n",
       "      <td>...</td>\n",
       "    </tr>\n",
       "    <tr>\n",
       "      <th>11</th>\n",
       "      <td>358.16k</td>\n",
       "      <td>8.995125m</td>\n",
       "    </tr>\n",
       "    <tr>\n",
       "      <th>12</th>\n",
       "      <td>366.26k</td>\n",
       "      <td>8.949304m</td>\n",
       "    </tr>\n",
       "    <tr>\n",
       "      <th>13</th>\n",
       "      <td>403.48k</td>\n",
       "      <td>1.251911m</td>\n",
       "    </tr>\n",
       "    <tr>\n",
       "      <th>14</th>\n",
       "      <td>973.6k</td>\n",
       "      <td>1.279613m</td>\n",
       "    </tr>\n",
       "  </tbody>\n",
       "</table>\n",
       "<p>15 rows × 2 columns</p>\n",
       "</div>"
      ],
      "text/plain": [
       "   Frequency, Hz - Peaks Magnitude (V) - Peaks\n",
       "0                 129.9k             2.476297m\n",
       "1                163.26k             1.406614m\n",
       "2                187.98k             3.072827m\n",
       "3                 235.5k             1.928759m\n",
       "..                   ...                   ...\n",
       "11               358.16k             8.995125m\n",
       "12               366.26k             8.949304m\n",
       "13               403.48k             1.251911m\n",
       "14                973.6k             1.279613m\n",
       "\n",
       "[15 rows x 2 columns]"
      ]
     },
     "metadata": {},
     "output_type": "display_data"
    },
    {
     "name": "stdout",
     "output_type": "stream",
     "text": [
      "Frequency, Hz - Peaks    object\n",
      "Magnitude (V) - Peaks    object\n",
      "dtype: object\n",
      "\n"
     ]
    },
    {
     "data": {
      "text/html": [
       "<div>\n",
       "<style>\n",
       "    .dataframe thead tr:only-child th {\n",
       "        text-align: right;\n",
       "    }\n",
       "\n",
       "    .dataframe thead th {\n",
       "        text-align: left;\n",
       "    }\n",
       "\n",
       "    .dataframe tbody tr th {\n",
       "        vertical-align: top;\n",
       "    }\n",
       "</style>\n",
       "<table border=\"1\" class=\"dataframe\">\n",
       "  <thead>\n",
       "    <tr style=\"text-align: right;\">\n",
       "      <th></th>\n",
       "      <th>Frequency, Hz - Signal</th>\n",
       "      <th>Magnitude (V) - Signal</th>\n",
       "    </tr>\n",
       "  </thead>\n",
       "  <tbody>\n",
       "    <tr>\n",
       "      <th>0</th>\n",
       "      <td>100k</td>\n",
       "      <td>729.632u</td>\n",
       "    </tr>\n",
       "    <tr>\n",
       "      <th>1</th>\n",
       "      <td>100.02k</td>\n",
       "      <td>346.4334u</td>\n",
       "    </tr>\n",
       "    <tr>\n",
       "      <th>2</th>\n",
       "      <td>100.04k</td>\n",
       "      <td>232.6887u</td>\n",
       "    </tr>\n",
       "    <tr>\n",
       "      <th>3</th>\n",
       "      <td>100.06k</td>\n",
       "      <td>614.2753u</td>\n",
       "    </tr>\n",
       "    <tr>\n",
       "      <th>...</th>\n",
       "      <td>...</td>\n",
       "      <td>...</td>\n",
       "    </tr>\n",
       "    <tr>\n",
       "      <th>54997</th>\n",
       "      <td>1.19994M</td>\n",
       "      <td>20.8403u</td>\n",
       "    </tr>\n",
       "    <tr>\n",
       "      <th>54998</th>\n",
       "      <td>1.19996M</td>\n",
       "      <td>20.34196u</td>\n",
       "    </tr>\n",
       "    <tr>\n",
       "      <th>54999</th>\n",
       "      <td>1.19998M</td>\n",
       "      <td>18.38601u</td>\n",
       "    </tr>\n",
       "    <tr>\n",
       "      <th>55000</th>\n",
       "      <td>1.2M</td>\n",
       "      <td>17.04597u</td>\n",
       "    </tr>\n",
       "  </tbody>\n",
       "</table>\n",
       "<p>55001 rows × 2 columns</p>\n",
       "</div>"
      ],
      "text/plain": [
       "      Frequency, Hz - Signal Magnitude (V) - Signal\n",
       "0                       100k               729.632u\n",
       "1                    100.02k              346.4334u\n",
       "2                    100.04k              232.6887u\n",
       "3                    100.06k              614.2753u\n",
       "...                      ...                    ...\n",
       "54997               1.19994M               20.8403u\n",
       "54998               1.19996M              20.34196u\n",
       "54999               1.19998M              18.38601u\n",
       "55000                   1.2M              17.04597u\n",
       "\n",
       "[55001 rows x 2 columns]"
      ]
     },
     "metadata": {},
     "output_type": "display_data"
    },
    {
     "name": "stdout",
     "output_type": "stream",
     "text": [
      "Frequency, Hz - Signal    object\n",
      "Magnitude (V) - Signal    object\n",
      "dtype: object\n",
      "\n"
     ]
    }
   ],
   "source": [
    "display(df_peak)\n",
    "print(df_peak.dtypes,end=\"\\n\\n\")\n",
    "display(df_signal)\n",
    "print(df_signal.dtypes,end=\"\\n\\n\")"
   ]
  },
  {
   "cell_type": "code",
   "execution_count": 7,
   "metadata": {
    "ExecuteTime": {
     "end_time": "2018-05-19T00:23:39.771116Z",
     "start_time": "2018-05-19T00:23:39.733505Z"
    },
    "code_folding": [],
    "hidden": true
   },
   "outputs": [],
   "source": [
    "# Convert the data to floats\n",
    "def convert(val):\n",
    "    \n",
    "    # conversion dictionary\n",
    "    conversions = {\n",
    "                    'n':10**-9,\n",
    "                    'u':10**-6,\n",
    "                    'm':10**-3,\n",
    "                    'k':10**3,  \n",
    "                    'M':10**6\n",
    "                  }\n",
    "    \n",
    "    # get the last character in a value\n",
    "    str_val   = str(val)\n",
    "    last_char = str_val[-1]\n",
    "    \n",
    "    # convert last char it is in dictionary if it is in conversion list\n",
    "    if last_char in conversions:\n",
    "        val = float(str_val[:-1])*conversions[last_char]\n",
    "    \n",
    "    # implictely convert to float\n",
    "    else:     \n",
    "        try:\n",
    "            val = float(val)\n",
    "        except:\n",
    "            print(\"Failed to Implicitely Convert to Float: \",val)\n",
    "            return None\n",
    "    \n",
    "    return val\n",
    "    "
   ]
  },
  {
   "cell_type": "code",
   "execution_count": 8,
   "metadata": {
    "ExecuteTime": {
     "end_time": "2018-05-19T00:23:40.018815Z",
     "start_time": "2018-05-19T00:23:39.773994Z"
    },
    "hidden": true,
    "scrolled": false
   },
   "outputs": [],
   "source": [
    "df_signal = df_signal.applymap(convert)\n",
    "df_peak   = df_peak.applymap(convert)"
   ]
  },
  {
   "cell_type": "code",
   "execution_count": 9,
   "metadata": {
    "ExecuteTime": {
     "end_time": "2018-05-19T00:23:40.100927Z",
     "start_time": "2018-05-19T00:23:40.023959Z"
    },
    "hidden": true
   },
   "outputs": [
    {
     "name": "stdout",
     "output_type": "stream",
     "text": [
      "Frequency, Hz - Peaks    float64\n",
      "Magnitude (V) - Peaks    float64\n",
      "dtype: object\n"
     ]
    },
    {
     "data": {
      "text/html": [
       "<div>\n",
       "<style>\n",
       "    .dataframe thead tr:only-child th {\n",
       "        text-align: right;\n",
       "    }\n",
       "\n",
       "    .dataframe thead th {\n",
       "        text-align: left;\n",
       "    }\n",
       "\n",
       "    .dataframe tbody tr th {\n",
       "        vertical-align: top;\n",
       "    }\n",
       "</style>\n",
       "<table border=\"1\" class=\"dataframe\">\n",
       "  <thead>\n",
       "    <tr style=\"text-align: right;\">\n",
       "      <th></th>\n",
       "      <th>Frequency, Hz - Peaks</th>\n",
       "      <th>Magnitude (V) - Peaks</th>\n",
       "    </tr>\n",
       "  </thead>\n",
       "  <tbody>\n",
       "    <tr>\n",
       "      <th>0</th>\n",
       "      <td>129900.0</td>\n",
       "      <td>0.002476</td>\n",
       "    </tr>\n",
       "    <tr>\n",
       "      <th>1</th>\n",
       "      <td>163260.0</td>\n",
       "      <td>0.001407</td>\n",
       "    </tr>\n",
       "    <tr>\n",
       "      <th>2</th>\n",
       "      <td>187980.0</td>\n",
       "      <td>0.003073</td>\n",
       "    </tr>\n",
       "    <tr>\n",
       "      <th>3</th>\n",
       "      <td>235500.0</td>\n",
       "      <td>0.001929</td>\n",
       "    </tr>\n",
       "    <tr>\n",
       "      <th>...</th>\n",
       "      <td>...</td>\n",
       "      <td>...</td>\n",
       "    </tr>\n",
       "    <tr>\n",
       "      <th>11</th>\n",
       "      <td>358160.0</td>\n",
       "      <td>0.008995</td>\n",
       "    </tr>\n",
       "    <tr>\n",
       "      <th>12</th>\n",
       "      <td>366260.0</td>\n",
       "      <td>0.008949</td>\n",
       "    </tr>\n",
       "    <tr>\n",
       "      <th>13</th>\n",
       "      <td>403480.0</td>\n",
       "      <td>0.001252</td>\n",
       "    </tr>\n",
       "    <tr>\n",
       "      <th>14</th>\n",
       "      <td>973600.0</td>\n",
       "      <td>0.001280</td>\n",
       "    </tr>\n",
       "  </tbody>\n",
       "</table>\n",
       "<p>15 rows × 2 columns</p>\n",
       "</div>"
      ],
      "text/plain": [
       "    Frequency, Hz - Peaks  Magnitude (V) - Peaks\n",
       "0                129900.0               0.002476\n",
       "1                163260.0               0.001407\n",
       "2                187980.0               0.003073\n",
       "3                235500.0               0.001929\n",
       "..                    ...                    ...\n",
       "11               358160.0               0.008995\n",
       "12               366260.0               0.008949\n",
       "13               403480.0               0.001252\n",
       "14               973600.0               0.001280\n",
       "\n",
       "[15 rows x 2 columns]"
      ]
     },
     "metadata": {},
     "output_type": "display_data"
    },
    {
     "name": "stdout",
     "output_type": "stream",
     "text": [
      "Frequency, Hz - Signal    float64\n",
      "Magnitude (V) - Signal    float64\n",
      "dtype: object\n"
     ]
    },
    {
     "data": {
      "text/html": [
       "<div>\n",
       "<style>\n",
       "    .dataframe thead tr:only-child th {\n",
       "        text-align: right;\n",
       "    }\n",
       "\n",
       "    .dataframe thead th {\n",
       "        text-align: left;\n",
       "    }\n",
       "\n",
       "    .dataframe tbody tr th {\n",
       "        vertical-align: top;\n",
       "    }\n",
       "</style>\n",
       "<table border=\"1\" class=\"dataframe\">\n",
       "  <thead>\n",
       "    <tr style=\"text-align: right;\">\n",
       "      <th></th>\n",
       "      <th>Frequency, Hz - Signal</th>\n",
       "      <th>Magnitude (V) - Signal</th>\n",
       "    </tr>\n",
       "  </thead>\n",
       "  <tbody>\n",
       "    <tr>\n",
       "      <th>0</th>\n",
       "      <td>100000.0</td>\n",
       "      <td>0.000730</td>\n",
       "    </tr>\n",
       "    <tr>\n",
       "      <th>1</th>\n",
       "      <td>100020.0</td>\n",
       "      <td>0.000346</td>\n",
       "    </tr>\n",
       "    <tr>\n",
       "      <th>2</th>\n",
       "      <td>100040.0</td>\n",
       "      <td>0.000233</td>\n",
       "    </tr>\n",
       "    <tr>\n",
       "      <th>3</th>\n",
       "      <td>100060.0</td>\n",
       "      <td>0.000614</td>\n",
       "    </tr>\n",
       "    <tr>\n",
       "      <th>...</th>\n",
       "      <td>...</td>\n",
       "      <td>...</td>\n",
       "    </tr>\n",
       "    <tr>\n",
       "      <th>54997</th>\n",
       "      <td>1199940.0</td>\n",
       "      <td>0.000021</td>\n",
       "    </tr>\n",
       "    <tr>\n",
       "      <th>54998</th>\n",
       "      <td>1199960.0</td>\n",
       "      <td>0.000020</td>\n",
       "    </tr>\n",
       "    <tr>\n",
       "      <th>54999</th>\n",
       "      <td>1199980.0</td>\n",
       "      <td>0.000018</td>\n",
       "    </tr>\n",
       "    <tr>\n",
       "      <th>55000</th>\n",
       "      <td>1200000.0</td>\n",
       "      <td>0.000017</td>\n",
       "    </tr>\n",
       "  </tbody>\n",
       "</table>\n",
       "<p>55001 rows × 2 columns</p>\n",
       "</div>"
      ],
      "text/plain": [
       "       Frequency, Hz - Signal  Magnitude (V) - Signal\n",
       "0                    100000.0                0.000730\n",
       "1                    100020.0                0.000346\n",
       "2                    100040.0                0.000233\n",
       "3                    100060.0                0.000614\n",
       "...                       ...                     ...\n",
       "54997               1199940.0                0.000021\n",
       "54998               1199960.0                0.000020\n",
       "54999               1199980.0                0.000018\n",
       "55000               1200000.0                0.000017\n",
       "\n",
       "[55001 rows x 2 columns]"
      ]
     },
     "metadata": {},
     "output_type": "display_data"
    }
   ],
   "source": [
    "print(df_peak.dtypes)\n",
    "display(df_peak)\n",
    "\n",
    "print(df_signal.dtypes)\n",
    "display(df_signal)"
   ]
  },
  {
   "cell_type": "code",
   "execution_count": 10,
   "metadata": {
    "ExecuteTime": {
     "end_time": "2018-05-19T00:23:40.676574Z",
     "start_time": "2018-05-19T00:23:40.107585Z"
    },
    "hidden": true,
    "scrolled": true
   },
   "outputs": [
    {
     "data": {
      "image/png": "[encoded data removed]",
      "text/plain": [
       "<matplotlib.figure.Figure at 0x11486d6a0>"
      ]
     },
     "metadata": {},
     "output_type": "display_data"
    }
   ],
   "source": [
    "# Plot\n",
    "\n",
    "%matplotlib inline\n",
    "\n",
    "# set plot size\n",
    "mpl.rcParams['figure.figsize'] = (11,7) \n",
    "\n",
    "# Signal Data\n",
    "x = Frequency = df_signal[signal_headers[0]]\n",
    "y = Magnitude = df_signal[signal_headers[1]]\n",
    "\n",
    "# Signal Plot\n",
    "plt.plot(x, y, \n",
    "         linewidth=1, linestyle=\"-\",\n",
    "         color=\"red\", label=\"Magnitude vs. Frequency\")\n",
    "\n",
    "# Peak Data\n",
    "x_peak = df_peak[peak_headers[0]]\n",
    "y_peak = df_peak[peak_headers[1]]\n",
    "\n",
    "# Peak Plot\n",
    "plt.scatter(x_peak, y_peak, color='blue')\n",
    "\n",
    "\n",
    "\n",
    "plt.xlabel(\"Frequency\")\n",
    "plt.ylabel(\"Magnitude\")\n",
    "plt.title(\"Magnitude vs. Frequency\")\n",
    "plt.legend(loc=\"upper right\")\n",
    "\n",
    "plt.show()"
   ]
  },
  {
   "cell_type": "code",
   "execution_count": 11,
   "metadata": {
    "ExecuteTime": {
     "end_time": "2018-05-19T00:23:40.683750Z",
     "start_time": "2018-05-19T00:23:40.679264Z"
    },
    "hidden": true
   },
   "outputs": [],
   "source": [
    "del x_peak, y_peak, x, y, df_peak, df_signal, peak_headers, signal_headers, df, list_files"
   ]
  },
  {
   "cell_type": "markdown",
   "metadata": {},
   "source": [
    "### Read In all Data"
   ]
  },
  {
   "cell_type": "code",
   "execution_count": 12,
   "metadata": {
    "ExecuteTime": {
     "end_time": "2018-05-19T00:24:10.306326Z",
     "start_time": "2018-05-19T00:24:09.586420Z"
    },
    "code_folding": [
     133
    ]
   },
   "outputs": [],
   "source": [
    "import matplotlib as mpl\n",
    "import matplotlib.pyplot as plt\n",
    "import pandas as pd\n",
    "import numpy as np\n",
    "import subprocess\n",
    "\n",
    "#       --- Get/Clean Data  ---\n",
    "\n",
    "def get_files(directory='.'):\n",
    "    '''\n",
    "    Returns: \n",
    "        - list of csv files from a given directory\n",
    "    Parameters:\n",
    "        - Directory: specifies the directory with the files you would like to analyze.\n",
    "            - By Defualt: this method will use the current directory.\n",
    "    '''\n",
    "    \n",
    "    # use shell command to get file list\n",
    "    str_files  = subprocess.check_output([\"ls \"+directory+\" | grep '\\.csv$'\"],shell=True).decode(\"utf-8\")\n",
    "    list_files = str_files.split(\"\\n\")\n",
    "    \n",
    "    # remove empty list elements\n",
    "    while '' in list_files: list_files.remove('')  \n",
    "        \n",
    "    return list_files\n",
    "\n",
    "def get_headers(file_name, signal_x_ind, signal_y_ind, peak_x_ind, peak_y_ind):\n",
    "    '''\n",
    "    PARAMETERS:\n",
    "        - pass in a file, and the indices of the repective data\n",
    "    RETURNS:\n",
    "        - signal and peak labels for the data being used\n",
    "    '''\n",
    "    df = pd.read_csv(file_name)\n",
    "    headers = list(df)\n",
    "    \n",
    "    signal_headers = [headers[signal_x_ind]] + [headers[signal_y_ind]]\n",
    "    peak_headers   = [headers[peak_x_ind]]   + [headers[peak_y_ind]]\n",
    "\n",
    "    return signal_headers, peak_headers\n",
    "\n",
    "def convert(val):\n",
    "    '''\n",
    "    DESCRIPTION:\n",
    "        - converts a string into a float.\n",
    "        - You can use pandas to run this function over specific columns\n",
    "          in your data, using, \"df.apply_map(func)\"\n",
    "        - This is a helper function for store_file_data\n",
    "    '''\n",
    "    \n",
    "    # conversion dictionary\n",
    "    conversions = {\n",
    "                    'n':10**-9,\n",
    "                    'u':10**-6,\n",
    "                    'm':10**-3,\n",
    "                    'k':10**3,  \n",
    "                    'M':10**6\n",
    "                  }\n",
    "    \n",
    "    # get the last character in a value\n",
    "    str_val   = str(val)\n",
    "    last_char = str_val[-1]\n",
    "    \n",
    "    # convert last char it is in dictionary if it is in conversion list\n",
    "    if last_char in conversions:\n",
    "        val = float(str_val[:-1])*conversions[last_char]\n",
    "    \n",
    "    # implictely convert to float\n",
    "    else:     \n",
    "        try:\n",
    "            val = float(val)\n",
    "        except:\n",
    "            print(\"Failed to Implicitely Convert to Float: \",val)\n",
    "            return None\n",
    "    \n",
    "    return val\n",
    "\n",
    "def store_file_data(file_names,signal_headers,peak_headers):\n",
    "    '''\n",
    "    DESCRIPTION:\n",
    "        1. reads in all of the data, from all of the files\n",
    "        2. parses all of the data\n",
    "        3. splits the data into signal, and peak data, \n",
    "           that are stored in dataframes.\n",
    "    RETURNS: dictionary:\n",
    "        - KEY:   file_name\n",
    "        - VALUE: (signal-DataFrame, peak-DataFrame)\n",
    "    '''\n",
    "    \n",
    "    file_to_data = {}\n",
    "    \n",
    "    for read_file in file_names:\n",
    "        \n",
    "        # Read Data\n",
    "        df = pd.read_csv(read_file)\n",
    "           \n",
    "        # Sepperate DataFrames\n",
    "        df_signal  = df[list(df)[2:]]\n",
    "        df_peak    = df[list(df)[:2]]\n",
    "       \n",
    "        # Drop Empty Rows\n",
    "        df_signal = df_signal.dropna(axis=0) \n",
    "        df_peak   = df_peak.dropna(axis=0) \n",
    "        \n",
    "        # Convert Data to Floats\n",
    "        df_signal = df_signal.applymap(convert)\n",
    "        df_peak = df_peak.applymap(convert)\n",
    "        \n",
    "        file_to_data[read_file] = (df_signal,df_peak)\n",
    "    \n",
    "    return file_to_data\n",
    "\n",
    "def get_plot_data(file_name, all_data, signal_headers, peak_headers):\n",
    "    '''\n",
    "    RETURNS\n",
    "        - the data from a single file that can than be plotted as \n",
    "          a tuple of arrays.\n",
    "    '''\n",
    "\n",
    "    # Signal to Plot\n",
    "    df_signal = all_data[file_name][0]  \n",
    "    x = df_signal[signal_headers[0]]\n",
    "    y = df_signal[signal_headers[1]]\n",
    "    \n",
    "    # Peaks To Plot\n",
    "    df_peak = all_data[file_name][1]\n",
    "    x_peak  = df_peak[peak_headers[0]]\n",
    "    y_peak  = df_peak[peak_headers[1]]\n",
    "    \n",
    "    return x,y,x_peak,y_peak\n",
    "\n",
    "#       --- Build Graphs ---\n",
    "\n",
    "def make_plots(all_data,signal_headers,peak_headers):\n",
    "    '''\n",
    "    DESCRIPTION:\n",
    "        - Plots the data from all of the files one at a time.\n",
    "        - These plots have clickable peaks. Everytime, a click is made on \n",
    "          a peak, the position of the peak is recorded. If the peak is \n",
    "          clicked on again, it will remove the record of that peak.\n",
    "    RETURN:\n",
    "        - returns a dictionary:\n",
    "            - KEY: name of the file\n",
    "            - VALUES: List of Tuples (x-coordinate, y-coordinate)\n",
    "                      that describes the peaks that were clicked on. \n",
    "                      (if a peak is clicked again, it will be removed from \n",
    "                      this list.)\n",
    "    '''\n",
    "    \n",
    "    important_peaks = {}\n",
    "\n",
    "    for file_name in all_data:\n",
    "\n",
    "        important_peaks[file_name] = []\n",
    "\n",
    "        # Set Plot Size\n",
    "        mpl.rcParams['figure.figsize'] = (11,7) \n",
    "\n",
    "        # Create Plot Figure/Axes\n",
    "        fig, ax = plt.subplots()\n",
    "\n",
    "        # Get Signal and Peak Data\n",
    "        x, y, x_peak, y_peak = get_plot_data(file_name,all_data,signal_headers,peak_headers)\n",
    "\n",
    "        # Set Axis Limits \n",
    "        # - (y-axis range is 20% greater than max data point in a plot)\n",
    "        ax.set_xlim(0,1200000)\n",
    "        ax.set_ylim(0,np.max(y_peak)+0.2*np.max(y_peak))\n",
    "\n",
    "        ax.set_xlabel(\"Frequency\")\n",
    "        ax.set_ylabel(\"Magnitude\")\n",
    "        ax.set_title(file_name)\n",
    "\n",
    "        # Peak Plot\n",
    "        coll = ax.scatter(x_peak, y_peak, color=[\"blue\"]*len(x_peak),picker=5,label=\"Peak Data\")\n",
    "\n",
    "        # Signal Plot\n",
    "        ax.plot(x, y, linewidth=1, linestyle=\"-\",\n",
    "                 color=\"red\", label=\"Magnitude vs. Frequency\")\n",
    "\n",
    "        print(\"File:\",file_name)\n",
    "        def on_pick(event):\n",
    "            \n",
    "            # index of the array, were the event occurred\n",
    "            ind = event.ind[0]\n",
    "            \n",
    "            # where the event ocurred\n",
    "            x_val = x_peak[ind]\n",
    "            y_val = y_peak[ind]\n",
    "            \n",
    "            # add point\n",
    "            if [x_val,y_val] not in important_peaks[file_name]:\n",
    "            \n",
    "                # color is speciified by: RGBA tuple\n",
    "                # https://www.cgl.ucsf.edu/chimera/docs/ProgrammersGuide/Examples/footnotes/rgba.html\n",
    "                important_peaks[file_name].append([x_val,y_val])\n",
    "                coll._facecolors[ind,:] = (1, 0, 0, 1)\n",
    "                coll._edgecolors[ind,:] = (1, 0, 0, 1)\n",
    "\n",
    "                print(\"\\t  Picked  Peak [ {:>3} ] at point: [ {:06.2f}, {:06.5f} ]\".format(ind,x_val,y_val))\n",
    "            \n",
    "            # remove point\n",
    "            else:\n",
    "                \n",
    "                important_peaks[file_name].remove([x_val,y_val])\n",
    "                coll._facecolors[ind,:] = (0, 0, 1, 1)\n",
    "                coll._edgecolors[ind,:] = (0, 0, 1, 1)\n",
    "\n",
    "                print(\"\\t  Removed Peak [ {:>3} ] at point: [ {:06.2f}, {:06.5f} ]\".format(ind,x_val,y_val))\n",
    "            \n",
    "            fig.canvas.draw()\n",
    "\n",
    "        ax.legend(loc=\"upper right\")\n",
    "\n",
    "        fig.canvas.mpl_connect('pick_event', on_pick)\n",
    "\n",
    "        plt.show(block=True)\n",
    "\n",
    "    return important_peaks\n",
    "\n",
    "# \t--- Main Method  ---\n",
    "\n",
    "def main():\n",
    "    pass\n",
    "\n",
    "\n",
    "if __name__ == \"__main__\":\n",
    "    main()\n",
    "\n"
   ]
  },
  {
   "cell_type": "code",
   "execution_count": 17,
   "metadata": {
    "ExecuteTime": {
     "end_time": "2018-05-19T00:25:32.560042Z",
     "start_time": "2018-05-19T00:25:17.191010Z"
    }
   },
   "outputs": [
    {
     "name": "stdout",
     "output_type": "stream",
     "text": [
      "File: sp001_051518_BaIrO3_916_295K_0.1atm_100-1200kHz.csv\n",
      "\t  Picked  Peak [  11 ] at point: [ 326500.00, 0.00813 ]\n",
      "\t  Picked  Peak [  13 ] at point: [ 961040.00, 0.00031 ]\n",
      "File: sp002_051518_BaIrO3_916_195K_100-1200kHz.csv\n",
      "\t  Picked  Peak [  11 ] at point: [ 358160.00, 0.00900 ]\n",
      "\t  Picked  Peak [  14 ] at point: [ 973600.00, 0.00128 ]\n",
      "File: sp003_051518_BaIrO3_916_194K_100-1200kHz.csv\n",
      "\t  Picked  Peak [  16 ] at point: [ 358780.00, 0.01302 ]\n",
      "\t  Picked  Peak [  19 ] at point: [ 970540.00, 0.00102 ]\n",
      "{'sp001_051518_BaIrO3_916_295K_0.1atm_100-1200kHz.csv': [[326500.0, 0.0081282060000000007], [961040.0, 0.00030732029999999997]], 'sp002_051518_BaIrO3_916_195K_100-1200kHz.csv': [[358160.0, 0.0089951249999999996], [973600.0, 0.001279613]], 'sp003_051518_BaIrO3_916_194K_100-1200kHz.csv': [[358780.0, 0.013023180000000001], [970540.0, 0.001022425]]}\n"
     ]
    }
   ],
   "source": [
    "#       --- Get Data ---\n",
    "%matplotlib qt\n",
    "all_files = get_files()\n",
    "signal_headers, peak_headers = get_headers(all_files[0],2,3,0,1)\n",
    "all_data  = store_file_data(all_files,signal_headers,peak_headers)\n",
    "\n",
    "#       --- Make Plots ---\n",
    "important_peaks = make_plots(all_data,signal_headers,peak_headers)\n",
    "\n",
    "#print(important_peaks)\n",
    "\n",
    "\n"
   ]
  },
  {
   "cell_type": "code",
   "execution_count": 24,
   "metadata": {
    "ExecuteTime": {
     "end_time": "2018-05-19T00:28:23.344861Z",
     "start_time": "2018-05-19T00:28:23.253678Z"
    }
   },
   "outputs": [
    {
     "name": "stdout",
     "output_type": "stream",
     "text": [
      "Frequency:\n",
      " [326500.0, 961040.0, 358160.0, 973600.0, 358780.0, 970540.0]\n",
      "Temperature:\n",
      " [295.0, 295.0, 195.0, 195.0, 194.0, 194.0]\n"
     ]
    }
   ],
   "source": [
    "#       --- Total Plot  ---\n",
    "%matplotlib qt\n",
    "Freq = []\n",
    "Temp  = []\n",
    "for file_name in important_peaks:\n",
    "    for peak in important_peaks[file_name]:\n",
    "        Freq.append(peak[0])\n",
    "        Temp.append(float(file_name.split('_')[4][:-1]))\n",
    "\n",
    "print(\"Frequency:\\n\",Freq)\n",
    "print(\"Temperature:\\n\",Temp)\n",
    "\n",
    "plt.plot(Temp,Freq,\"ro\", linewidth=1,\n",
    "              label=\"Frequency vs Temp\")\n",
    "plt.show()\n",
    "    "
   ]
  },
  {
   "cell_type": "code",
   "execution_count": null,
   "metadata": {},
   "outputs": [],
   "source": []
  }
 ],
 "metadata": {
  "kernelspec": {
   "display_name": "Python 3",
   "language": "python",
   "name": "python3"
  },
  "language_info": {
   "codemirror_mode": {
    "name": "ipython",
    "version": 3
   },
   "file_extension": ".py",
   "mimetype": "text/x-python",
   "name": "python",
   "nbconvert_exporter": "python",
   "pygments_lexer": "ipython3",
   "version": "3.6.2"
  },
  "toc": {
   "nav_menu": {},
   "number_sections": true,
   "sideBar": true,
   "skip_h1_title": false,
   "title_cell": "Table of Contents",
   "title_sidebar": "Contents",
   "toc_cell": false,
   "toc_position": {
    "height": "calc(100% - 180px)",
    "left": "10px",
    "top": "150px",
    "width": "296px"
   },
   "toc_section_display": true,
   "toc_window_display": false
  }
 },
 "nbformat": 4,
 "nbformat_minor": 2
}
