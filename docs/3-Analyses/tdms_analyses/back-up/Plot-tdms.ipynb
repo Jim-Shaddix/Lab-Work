{
 "cells": [
  {
   "cell_type": "markdown",
   "metadata": {},
   "source": [
    "# Analyze tdms Files"
   ]
  },
  {
   "cell_type": "markdown",
   "metadata": {},
   "source": [
    "## Goals\n",
    "1. Read in the tdms files\n",
    "2. Plot the data in a single tdms fil3\n",
    "    * plot the peaks as well, if this data is given\n",
    "3. Plot all of the data, in all of the files, as subplots\n",
    "4. Add the data, in quadature, to see if I get the behavior that is exhibited in the csv files.\n",
    "    * create subplots of all of this data.\n",
    "5. Do Peak Analyses\n",
    "    * check for lorentzian behavior, and see which peaks exhibit it. "
   ]
  },
  {
   "cell_type": "markdown",
   "metadata": {},
   "source": [
    "## Read In Data"
   ]
  },
  {
   "cell_type": "code",
   "execution_count": 2,
   "metadata": {
    "ExecuteTime": {
     "end_time": "2018-06-04T23:40:14.925618Z",
     "start_time": "2018-06-04T23:40:14.801070Z"
    },
    "scrolled": false
   },
   "outputs": [
    {
     "name": "stdout",
     "output_type": "stream",
     "text": [
      "053108_temp_index.csv\r\n",
      "sp001_053118_TaV2_300.0K_800-1200kHz.tdms\r\n",
      "sp002_053118_TaV2_295.0K_800-1200kHz.tdms\r\n",
      "sp003_053118_TaV2_290.0K_800-1200kHz.tdms\r\n",
      "sp004_053118_TaV2_285.0K_800-1200kHz.tdms\r\n",
      "sp005_053118_TaV2_280.0K_800-1200kHz.tdms\r\n",
      "sp006_053118_TaV2_275.0K_800-1200kHz.tdms\r\n",
      "sp007_053118_TaV2_270.0K_800-1200kHz.tdms\r\n",
      "sp008_053118_TaV2_265.0K_800-1200kHz.tdms\r\n",
      "sp009_053118_TaV2_260.0K_800-1200kHz.tdms\r\n",
      "sp010_053118_TaV2_255.0K_800-1200kHz.tdms\r\n",
      "sp011_053118_TaV2_250.0K_800-1200kHz.tdms\r\n",
      "sp012_053118_TaV2_245.0K_800-1200kHz.tdms\r\n",
      "sp013_053118_TaV2_240.0K_800-1200kHz.tdms\r\n",
      "sp014_053118_TaV2_235.0K_800-1200kHz.tdms\r\n",
      "sp015_053118_TaV2_230.0K_800-1200kHz.tdms\r\n",
      "sp016_053118_TaV2_225.0K_800-1200kHz.tdms\r\n",
      "sp017_053118_TaV2_220.0K_800-1200kHz.tdms\r\n",
      "sp018_053118_TaV2_215.0K_800-1200kHz.tdms\r\n",
      "sp019_053118_TaV2_210.0K_800-1200kHz.tdms\r\n",
      "sp020_053118_TaV2_205.0K_800-1200kHz.tdms\r\n",
      "sp021_053118_TaV2_200.0K_800-1200kHz.tdms\r\n",
      "sp022_053118_TaV2_195.0K_800-1200kHz.tdms\r\n",
      "sp023_053118_TaV2_190.0K_800-1200kHz.tdms\r\n",
      "sp024_053118_TaV2_185.0K_800-1200kHz.tdms\r\n",
      "sp025_053118_TaV2_180.0K_800-1200kHz.tdms\r\n",
      "sp026_053118_TaV2_175.0K_800-1200kHz.tdms\r\n",
      "sp027_053118_TaV2_170.0K_800-1200kHz.tdms\r\n",
      "sp028_053118_TaV2_165.0K_800-1200kHz.tdms\r\n",
      "sp029_053118_TaV2_160.0K_800-1200kHz.tdms\r\n",
      "sp030_053118_TaV2_155.0K_800-1200kHz.tdms\r\n",
      "sp031_053118_TaV2_150.0K_800-1200kHz.tdms\r\n",
      "sp032_053118_TaV2_145.0K_800-1200kHz.tdms\r\n",
      "sp033_053118_TaV2_140.0K_800-1200kHz.tdms\r\n",
      "sp034_053118_TaV2_135.0K_800-1200kHz.tdms\r\n",
      "sp035_053118_TaV2_130.0K_800-1200kHz.tdms\r\n",
      "sp036_053118_TaV2_125.0K_800-1200kHz.tdms\r\n",
      "sp037_053118_TaV2_120.0K_800-1200kHz.tdms\r\n",
      "sp038_053118_TaV2_115.0K_800-1200kHz.tdms\r\n",
      "sp039_053118_TaV2_110.0K_800-1200kHz.tdms\r\n",
      "sp040_053118_TaV2_105.0K_800-1200kHz.tdms\r\n",
      "sp041_053118_TaV2_100.0K_800-1200kHz.tdms\r\n"
     ]
    }
   ],
   "source": [
    "!ls ../../Files_To_Analyze/31\\ May\\ 18\\ TaV2/"
   ]
  },
  {
   "cell_type": "code",
   "execution_count": null,
   "metadata": {},
   "outputs": [],
   "source": [
    "file_name = \"../../Files_To_Analyze/31\\ May\\ 18\\ TaV2/sp001_053118_TaV2_300.0K_800-1200kHz.tdms\""
   ]
  }
 ],
 "metadata": {
  "kernelspec": {
   "display_name": "Python 3",
   "language": "python",
   "name": "python3"
  },
  "language_info": {
   "codemirror_mode": {
    "name": "ipython",
    "version": 3
   },
   "file_extension": ".py",
   "mimetype": "text/x-python",
   "name": "python",
   "nbconvert_exporter": "python",
   "pygments_lexer": "ipython3",
   "version": "3.6.2"
  },
  "toc": {
   "nav_menu": {},
   "number_sections": true,
   "sideBar": true,
   "skip_h1_title": false,
   "title_cell": "Table of Contents",
   "title_sidebar": "Contents",
   "toc_cell": false,
   "toc_position": {},
   "toc_section_display": true,
   "toc_window_display": false
  }
 },
 "nbformat": 4,
 "nbformat_minor": 2
}
